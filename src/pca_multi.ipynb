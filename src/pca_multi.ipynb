{
 "cells": [
  {
   "cell_type": "code",
   "execution_count": 6,
   "metadata": {},
   "outputs": [],
   "source": [
    "#imports\n",
    "\n",
    "# Scikit-learn module for PCA\n",
    "from sklearn import decomposition\n",
    "\n",
    "# Custom csv processor for importing data from csv\n",
    "import utility.csv_process as reader\n",
    "\n",
    "# Numpy for matrix manipulation\n",
    "import numpy as np\n",
    "\n",
    "# For 2d graphing\n",
    "from matplotlib import pyplot as plt\n",
    "\n",
    "# For 3d graphing\n",
    "from mpl_toolkits.mplot3d import Axes3D\n",
    "\n",
    "# For building paths\n",
    "from os import path\n"
   ]
  },
  {
   "cell_type": "code",
   "execution_count": 9,
   "metadata": {},
   "outputs": [],
   "source": [
    "#read csvs\n",
    "\n",
    "rw_1 = reader.production_read(path.join('data', 'log_gait_1_RW.csv'))\n",
    "vr_1 = reader.production_read(path.join('data', 'log_gait_1_VR.csv'))\n",
    "rw_2 = reader.production_read(path.join('data', 'log_gait_2_RW.csv'))\n",
    "vr_2 = reader.production_read(path.join('data', 'log_gait_2_RW.csv'))\n"
   ]
  },
  {
   "cell_type": "code",
   "execution_count": 19,
   "metadata": {
    "collapsed": true
   },
   "outputs": [],
   "source": [
    "#This organizes each dataset by frame \n",
    "#Also creates numpy arrays of flaots\n",
    "\n",
    "trans_cui = np.array(reader.by_frame(cui), dtype = 'float16')\n",
    "trans_liu = np.array(reader.by_frame(liu), dtype = 'float16')\n",
    "trans_tri = np.array(reader.by_frame(tri), dtype = 'float16')"
   ]
  },
  {
   "cell_type": "code",
   "execution_count": 20,
   "metadata": {},
   "outputs": [
    {
     "name": "stdout",
     "output_type": "stream",
     "text": [
      "cui: (695, 80) liu: (2177, 80) tri: (298, 80)\n"
     ]
    }
   ],
   "source": [
    "#get the shapes of the separate datasets\n",
    "\n",
    "print('cui:', trans_cui.shape, 'liu:', trans_liu.shape, 'tri:', trans_tri.shape)"
   ]
  },
  {
   "cell_type": "code",
   "execution_count": 21,
   "metadata": {},
   "outputs": [
    {
     "data": {
      "text/plain": [
       "(3170, 80)"
      ]
     },
     "execution_count": 21,
     "metadata": {},
     "output_type": "execute_result"
    }
   ],
   "source": [
    "#stack our datasets: \n",
    "\n",
    "data = np.vstack((trans_cui, trans_liu, trans_tri))\n",
    "data.shape"
   ]
  },
  {
   "cell_type": "code",
   "execution_count": 7,
   "metadata": {
    "collapsed": true
   },
   "outputs": [],
   "source": [
    "#Do pca on the combined dataset - we will go down to 3 components\n",
    "pca = decomposition.PCA(n_components=3)\n",
    "\n",
    "components = pca.fit_transform(data)"
   ]
  },
  {
   "cell_type": "code",
   "execution_count": 8,
   "metadata": {},
   "outputs": [
    {
     "name": "stdout",
     "output_type": "stream",
     "text": [
      "cui: (695, 3) liu: (2177, 3) tri: (298, 3)\n"
     ]
    }
   ],
   "source": [
    "#split the dataset back into classes\n",
    "\n",
    "comp_cui = components[0:695]\n",
    "comp_liu = components[695:2177+695]\n",
    "comp_tri = components[2177+695:2177+695+298]\n",
    "print('cui:', comp_cui.shape, 'liu:', comp_liu.shape, 'tri:', comp_tri.shape)"
   ]
  },
  {
   "cell_type": "code",
   "execution_count": 9,
   "metadata": {
    "collapsed": true
   },
   "outputs": [],
   "source": [
    "#split data into x,y,z components\n",
    "comp_cui_x = comp_cui[:, 0]\n",
    "comp_cui_y = comp_cui[:, 1]\n",
    "comp_cui_z = comp_cui[:, 2]\n",
    "\n",
    "comp_liu_x = comp_liu[:, 0]\n",
    "comp_liu_y = comp_liu[:, 1]\n",
    "comp_liu_z = comp_liu[:, 2]\n",
    "\n",
    "comp_tri_x = comp_tri[:, 0]\n",
    "comp_tri_y = comp_tri[:, 1]\n",
    "comp_tri_z = comp_tri[:, 2]"
   ]
  },
  {
   "cell_type": "code",
   "execution_count": 10,
   "metadata": {
    "collapsed": true
   },
   "outputs": [],
   "source": [
    "#Make the plot so we can graph\n",
    "\n",
    "fig = plt.figure()\n",
    "ax = fig.add_subplot(111, projection='3d')\n"
   ]
  },
  {
   "cell_type": "code",
   "execution_count": 12,
   "metadata": {},
   "outputs": [
    {
     "name": "stderr",
     "output_type": "stream",
     "text": [
      "c:\\users\\bobth\\documents\\college\\summer17\\ml\\lib\\site-packages\\matplotlib\\axes\\_axes.py:545: UserWarning: No labelled objects found. Use label='...' kwarg on individual plots.\n",
      "  warnings.warn(\"No labelled objects found. \"\n"
     ]
    },
    {
     "data": {
      "image/png": "[encoded data removed]",
      "text/plain": [
       "<matplotlib.figure.Figure at 0x1bcfb70fa90>"
      ]
     },
     "metadata": {},
     "output_type": "display_data"
    }
   ],
   "source": [
    "#add each dataset to the plot and then graph\n",
    "ax.scatter(comp_cui_x, comp_cui_y, comp_cui_z, c='r', marker = \"o\", label = 'Cui')\n",
    "ax.scatter(comp_liu_x, comp_liu_y, comp_liu_z, c='b', marker = \"^\", label = 'Liu')\n",
    "ax.scatter(comp_tri_x, comp_tri_y, comp_tri_z, c='g', marker = \"x\", label = 'Tri')\n",
    "\n",
    "plt.legend(loc = 'best'); \n",
    "plt.show()"
   ]
  },
  {
   "cell_type": "code",
   "execution_count": 29,
   "metadata": {
    "collapsed": true
   },
   "outputs": [],
   "source": [
    "#Do pca on the combined dataset - we will go down to 2 components here\n",
    "pca = decomposition.PCA(n_components=2)\n",
    "\n",
    "components = pca.fit_transform(data)"
   ]
  },
  {
   "cell_type": "code",
   "execution_count": 30,
   "metadata": {
    "collapsed": true
   },
   "outputs": [],
   "source": [
    "#Make the plot so we can graph\n",
    "\n",
    "fig = plt.figure()\n",
    "ax = fig.add_subplot(111)\n"
   ]
  },
  {
   "cell_type": "code",
   "execution_count": 31,
   "metadata": {},
   "outputs": [
    {
     "data": {
      "image/png": "[encoded data removed]",
      "text/plain": [
       "<matplotlib.figure.Figure at 0x1bcfbc739e8>"
      ]
     },
     "metadata": {},
     "output_type": "display_data"
    }
   ],
   "source": [
    "#add each dataset to the plot and then graph\n",
    "ax.scatter(comp_cui_x, comp_cui_y, c='r', marker = \"o\", label = 'Cui')\n",
    "ax.scatter(comp_liu_x, comp_liu_y, c='b', marker = \"^\", label = 'Liu')\n",
    "ax.scatter(comp_tri_x, comp_tri_y, c='g', marker = \"x\", label = 'Tri')\n",
    "\n",
    "plt.legend(loc = 'best'); \n",
    "plt.show()"
   ]
  },
  {
   "cell_type": "code",
   "execution_count": 25,
   "metadata": {
    "collapsed": true
   },
   "outputs": [],
   "source": [
    "comp_cui_x = comp_cui[:, 0]\n",
    "comp_cui_y = comp_cui[:, 1]\n",
    "\n",
    "comp_liu_x = comp_liu[:, 0]\n",
    "comp_liu_y = comp_liu[:, 1]\n",
    "\n",
    "comp_tri_x = comp_tri[:, 0]\n",
    "comp_tri_y = comp_tri[:, 1]\n"
   ]
  },
  {
   "cell_type": "code",
   "execution_count": null,
   "metadata": {
    "collapsed": true
   },
   "outputs": [],
   "source": []
  }
 ],
 "metadata": {
  "kernelspec": {
   "display_name": "Python 3",
   "language": "python",
   "name": "python3"
  },
  "language_info": {
   "codemirror_mode": {
    "name": "ipython",
    "version": 3
   },
   "file_extension": ".py",
   "mimetype": "text/x-python",
   "name": "python",
   "nbconvert_exporter": "python",
   "pygments_lexer": "ipython3",
   "version": "3.6.0"
  }
 },
 "nbformat": 4,
 "nbformat_minor": 2
}
